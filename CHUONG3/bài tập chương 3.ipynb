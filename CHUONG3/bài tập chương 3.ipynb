{
 "cells": [
  {
   "cell_type": "code",
   "execution_count": 1,
   "id": "0b0c768c",
   "metadata": {},
   "outputs": [
    {
     "name": "stdout",
     "output_type": "stream",
     "text": [
      "                                            Tên sách  Giá (nghìn VND)  \\\n",
      "0                                Đọc Sách, Điểm Sách               46   \n",
      "1               Sách - Phương Pháp Đọc Sách Hiệu Quả              143   \n",
      "2  Phương Pháp Đọc Sách Hiệu Quả (*** Sách Bản Qu...              143   \n",
      "3              Sách - Sách Tết Canh Tý 2020 - Đông A              243   \n",
      "4       Sách - Người Thu Gió - Tủ Sách Giáo Dục Stem              119   \n",
      "5            Sách - Làm thế nào để đọc sách hiệu quả               80   \n",
      "6  Sách - Tiệm Sách Cổ Sotheran Huyền Bí - 1980Books              161   \n",
      "7             Sách - Cuốn Sách Lớn Rực Rỡ Về Bốn Mùa               71   \n",
      "8  Sách Bí mật - The Secret - Tặng kèm bookmark t...              280   \n",
      "9                                   Sách - Tịch Tịnh               69   \n",
      "\n",
      "  Thương hiệu  \n",
      "0    Không rõ  \n",
      "1    Không rõ  \n",
      "2    Không rõ  \n",
      "3    Không rõ  \n",
      "4    Không rõ  \n",
      "5    Không rõ  \n",
      "6    Không rõ  \n",
      "7    Không rõ  \n",
      "8    Không rõ  \n",
      "9    Không rõ  \n"
     ]
    }
   ],
   "source": [
    "import requests\n",
    "import pandas as pd\n",
    "\n",
    "# Định nghĩa endpoint API và tham số truy vấn\n",
    "url = \"https://tiki.vn/api/v2/products?limit=10&q=s%C3%A1ch\"\n",
    "\n",
    "params = {\n",
    "    \"q\": \"sách\",  # Từ khóa tìm kiếm\n",
    "    \"limit\": 10    # Số kết quả muốn lấy\n",
    "}\n",
    "\n",
    "# Thêm User-Agent để giả lập trình duyệt thật\n",
    "headers = {\n",
    "    \"User-Agent\": \"Mozilla/5.0\"\n",
    "}\n",
    "\n",
    "# Gửi request GET đến API\n",
    "response = requests.get(url, params=params, headers=headers)\n",
    "data = response.json() \n",
    "\n",
    "#Khởi tạo ds để lưu trữ \n",
    "books = []\n",
    "    \n",
    "# Duyệt qua từng sản phẩm trong mảng 'data'\n",
    "for item in data['data']:\n",
    "        books.append({\n",
    "            'Tên sách': item['name'],\n",
    "            'Giá (nghìn VND)': item['price'] // 1000,  \n",
    "            'Thương hiệu': item.get('brand', {}).get('name', 'Không rõ')  \n",
    "        })\n",
    "    \n",
    "    # Chuyển danh sách thành DataFrame để hiển thị dạng bảng\n",
    "df = pd.DataFrame(books)\n",
    "print(df)"
   ]
  }
 ],
 "metadata": {
  "kernelspec": {
   "display_name": "Python 3",
   "language": "python",
   "name": "python3"
  },
  "language_info": {
   "codemirror_mode": {
    "name": "ipython",
    "version": 3
   },
   "file_extension": ".py",
   "mimetype": "text/x-python",
   "name": "python",
   "nbconvert_exporter": "python",
   "pygments_lexer": "ipython3",
   "version": "3.10.11"
  }
 },
 "nbformat": 4,
 "nbformat_minor": 5
}
