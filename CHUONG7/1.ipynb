{
 "cells": [
  {
   "cell_type": "code",
   "execution_count": 1,
   "id": "71f11565",
   "metadata": {},
   "outputs": [
    {
     "name": "stdout",
     "output_type": "stream",
     "text": [
      "Xác thực thất bại!\n"
     ]
    }
   ],
   "source": [
    "import hashlib\n",
    "# Mật khẩu lưu trữ dưới dạng mã băm SHA-256\n",
    "stored_password = hashlib.sha256(b\"mypassword\").hexdigest()\n",
    "# Yêu cầu người dùng nhập mật khẩu\n",
    "password = input(\"Nhập mật khẩu: \")\n",
    "hashed_password = hashlib.sha256(password.encode()).hexdigest()\n",
    "if hashed_password == stored_password:\n",
    "    print(\"Xác thực thành công!\")\n",
    "else:\n",
    "    print(\"Xác thực thất bại!\")"
   ]
  },
  {
   "cell_type": "code",
   "execution_count": 2,
   "id": "c712aa10",
   "metadata": {},
   "outputs": [
    {
     "name": "stdout",
     "output_type": "stream",
     "text": [
      "Mã OTP của bạn là: 602747\n",
      "Xác thực thất bại!\n"
     ]
    }
   ],
   "source": [
    "import pyotp\n",
    "import time\n",
    "# Tạo khóa bí mật và mã OTP\n",
    "secret = pyotp.random_base32()\n",
    "totp = pyotp.TOTP(secret)\n",
    "print(\"Mã OTP của bạn là:\", totp.now())\n",
    "# Yêu cầu nhập mã OTP\n",
    "otp_input = input(\"Nhập mã OTP: \")\n",
    "if totp.verify(otp_input):\n",
    "    print(\"Xác thực thành công!\")\n",
    "else:\n",
    "    print(\"Xác thực thất bại!\")"
   ]
  },
  {
   "cell_type": "code",
   "execution_count": null,
   "id": "8abd2e1b",
   "metadata": {},
   "outputs": [
    {
     "name": "stdout",
     "output_type": "stream",
     "text": [
      "Xác thực mật khẩu thất bại!\n",
      "Mã OTP của bạn là: 982783\n",
      "Xác thực bước 2, mã OTP thất bại!\n"
     ]
    },
    {
     "ename": "",
     "evalue": "",
     "output_type": "error",
     "traceback": [
      "\u001b[1;31mThe Kernel crashed while executing code in the current cell or a previous cell. \n",
      "\u001b[1;31mPlease review the code in the cell(s) to identify a possible cause of the failure. \n",
      "\u001b[1;31mClick <a href='https://aka.ms/vscodeJupyterKernelCrash'>here</a> for more info. \n",
      "\u001b[1;31mView Jupyter <a href='command:jupyter.viewOutput'>log</a> for further details."
     ]
    }
   ],
   "source": [
    "import hashlib\n",
    "import pyotp\n",
    "import time\n",
    "# Bước 1: Xác thực bằng mật khẩu\n",
    "stored_password = hashlib.sha256(b\"mypassword\").hexdigest() \n",
    "# Mật khẩu lưu trữ dưới dạng mã băm SHA-256\n",
    "password = input(\"Nhập mật khẩu: \")\n",
    "hashed_password = hashlib.sha256(password.encode()).hexdigest()\n",
    "if hashed_password == stored_password:\n",
    "    print(\"Xác thực mật khẩu thành công! Chuyển sang bước xác thực bằng mã OTP.\")\n",
    "else:\n",
    "    print(\"Xác thực mật khẩu thất bại!\")\n",
    "    exit() # Thoát chương trình nếu sai mật khẩu\n",
    "# Bước 2: Xác thực bằng mã OTP nếu mật khẩu đúng\n",
    "# Tạo khóa bí mật và mã OTP\n",
    "secret = pyotp.random_base32()\n",
    "totp = pyotp.TOTP(secret)\n",
    "# In mã OTP (trong thực tế sẽ được gửi qua SMS hoặc Email)\n",
    "print(\"Mã OTP của bạn là:\", totp.now())\n",
    "# Yêu cầu người dùng nhập mã OTP\n",
    "otp_input = input(\"Nhập mã OTP: \")\n",
    "if totp.verify(otp_input):\n",
    "    print(\"Xác thực hai yếu tố thành công!\")\n",
    "else:\n",
    "    print(\"Xác thực bước 2, mã OTP thất bại!\")"
   ]
  }
 ],
 "metadata": {
  "kernelspec": {
   "display_name": "base",
   "language": "python",
   "name": "python3"
  },
  "language_info": {
   "codemirror_mode": {
    "name": "ipython",
    "version": 3
   },
   "file_extension": ".py",
   "mimetype": "text/x-python",
   "name": "python",
   "nbconvert_exporter": "python",
   "pygments_lexer": "ipython3",
   "version": "3.11.4"
  }
 },
 "nbformat": 4,
 "nbformat_minor": 5
}
