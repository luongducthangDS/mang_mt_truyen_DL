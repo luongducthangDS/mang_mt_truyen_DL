{
 "cells": [
  {
   "cell_type": "code",
   "execution_count": 1,
   "id": "fbac489e",
   "metadata": {},
   "outputs": [
    {
     "name": "stdout",
     "output_type": "stream",
     "text": [
      "Văn bản mã hóa (AES): b'\\xc0\\x93\\x11lto\\x083<BU\\xdfi\\xfeL\\xf3\\x18\\xe7\\xbc\\x91\\xd6\\x85$\\x99/^\\x18\\xd0t\\x1e8o\\x07]\\x19 \\xc9I\\xa9\\xe0,xKgW\\x08}-\\xb5\\xed\\xf4\\x04\\x06d\\xe0-\\xa3!\\x9c\\xcd8.\\xc9w'\n",
      "Thời gian mã hóa AES: 0.0 giây\n",
      "Văn bản giải mã (AES): Hello, this is a test message for AES encryption!\n",
      "Thời gian giải mã AES: 0.0 giây\n"
     ]
    }
   ],
   "source": [
    "from Crypto.Cipher import AES\n",
    "from Crypto.Random import get_random_bytes\n",
    "from Crypto.Util.Padding import pad, unpad\n",
    "import time\n",
    "\n",
    "# Tạo khóa mã hóa 128-bit và khởi tạo AES\n",
    "key = get_random_bytes(16)\n",
    "cipher = AES.new(key, AES.MODE_CBC)\n",
    "\n",
    "plaintext = b\"Hello, this is a test message for AES encryption!\"\n",
    "\n",
    "# Đo thời gian mã hóa AES\n",
    "start_time = time.time()\n",
    "ciphertext = cipher.encrypt(pad(plaintext, AES.block_size))\n",
    "end_time = time.time()\n",
    "\n",
    "aes_encryption_time = end_time - start_time\n",
    "\n",
    "print(\"Văn bản mã hóa (AES):\", ciphertext)\n",
    "print(\"Thời gian mã hóa AES:\", aes_encryption_time, \"giây\")\n",
    "\n",
    "# Giải mã và đo thời gian giải mã AES\n",
    "start_time = time.time()\n",
    "decipher = AES.new(key, AES.MODE_CBC, cipher.iv)\n",
    "decrypted_text = unpad(decipher.decrypt(ciphertext), AES.block_size)\n",
    "end_time = time.time()\n",
    "\n",
    "aes_decryption_time = end_time - start_time\n",
    "\n",
    "print(\"Văn bản giải mã (AES):\", decrypted_text.decode())\n",
    "print(\"Thời gian giải mã AES:\", aes_decryption_time, \"giây\")\n"
   ]
  },
  {
   "cell_type": "code",
   "execution_count": 2,
   "id": "e6778447",
   "metadata": {},
   "outputs": [
    {
     "name": "stdout",
     "output_type": "stream",
     "text": [
      "Khóa AES sau khi mã hóa: b'd2\\x90\\x82\\x92\\xd3\\xccDoqF90\\x88\\xf7\\xbd\\xf7\\xe9\\x08\\x04\\rRF\\x87\\xc9\\xa3\\xed\\x8b\\x9a2\\xb3\\xe92\\x94\\x16\\xbd\\x13\\n_\\xb2\\xf6\\x00\\x97\\xb6\\xc1\\\\\\xf0\\x9f|E\\x0f\\x10>\\xac\\xf3\\xd5,\\xf1\\xb3\\xb2\\x1c\\xe0\\xea\\x0c\\xdf\\xc4S<\\x19\\xddf\\xe4,j)\\xe7\\xa3R[\\x7f\\xe8\\xe6\\x07\\x10Y\\x8b`wp\\xa5o\\xcbQ~z\\x96\\xd3K\\xbdY\\xf0^\\x8d\\x0c\\x12Nu~\\xbar\\xe8f\\x81\\xfb\\xf414\\xc2\\xd3J\\xb2Z\\x84\\xa3\\x967\\xa1a\\x7f\\xfbAp\\x90@L\\xe2N,\\x08\\xaa\\\\u\\xc4\\xdfL\\xfd\\xe4\\xef,\\xd9^\\x15\\xdb\\xc7\\x17\\xc2)|\\x94\\xc7\\x86&p\\xb4\\x00]%&\\xc3\"\\xe1\\x15\\n\\xe7\\xf9H\\xf4\\xd6_o~\\x11\\x1a\\xcd\\x1cQ\\xe2/h\\xa8\\xa1\\x04q\\xc2\\xb5\\xf4h\\xcb\\xfct\\xe2@\\x1a\\x80_;d`\\xb7\\xe0\\xd1\\xab\\x8b/\\x95V\\x83\\x11kC]:Q_\\xbd2*\\xe3p]\\x9d\\xa8\\xea\\xb3sm\\xb6[\\xfbz\\ty\\xf9\\xdao\\xc6\\xa2]S\\x99*\\xff\\x8b\\x01R%'\n",
      "Thời gian mã hóa RSA: 0.001600027084350586 giây\n",
      "Khóa AES sau khi giải mã: b\"c\\xe8\\x86ZAf'Dc\\x8e\\xd3\\xc7'\\xb4}C\"\n",
      "Thời gian giải mã RSA: 0.004926204681396484 giây\n"
     ]
    }
   ],
   "source": [
    "from Crypto.PublicKey import RSA\n",
    "from Crypto.Cipher import PKCS1_OAEP\n",
    "from Crypto.Random import get_random_bytes\n",
    "import time\n",
    "\n",
    "# Tạo cặp khóa RSA\n",
    "key = RSA.generate(2048)\n",
    "private_key = key.export_key()\n",
    "public_key = key.publickey().export_key()\n",
    "\n",
    "# Mã hóa khóa AES bằng khóa công khai RSA và đo thời gian\n",
    "aes_key = get_random_bytes(16)\n",
    "cipher_rsa = PKCS1_OAEP.new(RSA.import_key(public_key))\n",
    "\n",
    "start_time = time.time()\n",
    "encrypted_aes_key = cipher_rsa.encrypt(aes_key)\n",
    "end_time = time.time()\n",
    "rsa_encryption_time = end_time - start_time\n",
    "\n",
    "print(\"Khóa AES sau khi mã hóa:\", encrypted_aes_key)\n",
    "print(\"Thời gian mã hóa RSA:\", rsa_encryption_time, \"giây\")\n",
    "\n",
    "# Giải mã khóa AES bằng khóa riêng RSA và đo thời gian\n",
    "cipher_rsa = PKCS1_OAEP.new(RSA.import_key(private_key))\n",
    "\n",
    "start_time = time.time()\n",
    "decrypted_aes_key = cipher_rsa.decrypt(encrypted_aes_key)\n",
    "end_time = time.time()\n",
    "rsa_decryption_time = end_time - start_time\n",
    "\n",
    "print(\"Khóa AES sau khi giải mã:\", decrypted_aes_key)\n",
    "print(\"Thời gian giải mã RSA:\", rsa_decryption_time, \"giây\")\n"
   ]
  },
  {
   "cell_type": "code",
   "execution_count": 3,
   "id": "01624d47",
   "metadata": {},
   "outputs": [
    {
     "name": "stdout",
     "output_type": "stream",
     "text": [
      "Khóa AES sau khi giải mã: b'}\\r\\xc8D\\xa1\\x80\\x03\\xdcD\\rK\\r\\x88\\x02g\\xf4'\n",
      "Thời gian giải mã RSA: 0.0 giây\n"
     ]
    }
   ],
   "source": [
    "from Crypto.PublicKey import RSA\n",
    "from Crypto.Cipher import PKCS1_OAEP\n",
    "from Crypto.Random import get_random_bytes\n",
    "import time\n",
    "\n",
    "# 1. Tạo cặp khóa RSA\n",
    "key = RSA.generate(2048)\n",
    "private_key = key.export_key()\n",
    "public_key = key.publickey().export_key()\n",
    "\n",
    "# 2. Mã hóa khóa AES bằng khóa công khai RSA và đo thời gian\n",
    "aes_key = get_random_bytes(16)  # Khóa AES ngẫu nhiên 128-bit\n",
    "cipher_rsa = PKCS1_OAEP.new(RSA.import_key(public_key))\n",
    "\n",
    "encrypted_aes_key = cipher_rsa.encrypt(aes_key)\n",
    "\n",
    "# 3. Giải mã khóa AES và đo thời gian giải mã\n",
    "cipher_rsa_dec = PKCS1_OAEP.new(RSA.import_key(private_key))\n",
    "start_time = time.time()\n",
    "decrypted_aes_key = cipher_rsa_dec.decrypt(encrypted_aes_key)\n",
    "rsa_decryption_time = time.time() - start_time\n",
    "\n",
    "# 4. In kết quả\n",
    "print(\"Khóa AES sau khi giải mã:\", decrypted_aes_key)\n",
    "print(\"Thời gian giải mã RSA:\", rsa_decryption_time, \"giây\")\n"
   ]
  }
 ],
 "metadata": {
  "kernelspec": {
   "display_name": "Python 3",
   "language": "python",
   "name": "python3"
  },
  "language_info": {
   "codemirror_mode": {
    "name": "ipython",
    "version": 3
   },
   "file_extension": ".py",
   "mimetype": "text/x-python",
   "name": "python",
   "nbconvert_exporter": "python",
   "pygments_lexer": "ipython3",
   "version": "3.11.2"
  }
 },
 "nbformat": 4,
 "nbformat_minor": 5
}
