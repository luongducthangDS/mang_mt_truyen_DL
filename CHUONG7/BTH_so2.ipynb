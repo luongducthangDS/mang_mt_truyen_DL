{
 "cells": [
  {
   "cell_type": "code",
   "execution_count": 1,
   "id": "d505cf8e",
   "metadata": {},
   "outputs": [],
   "source": [
    "import hashlib \n",
    " \n",
    "# Mật khẩu lưu trữ dưới dạng mã băm SHA-256 \n",
    "stored_password = hashlib.sha256(b\"Thang2403@\").hexdigest() "
   ]
  },
  {
   "cell_type": "code",
   "execution_count": 2,
   "id": "e25c031b",
   "metadata": {},
   "outputs": [
    {
     "name": "stdout",
     "output_type": "stream",
     "text": [
      "Xác thực thành công!\n"
     ]
    }
   ],
   "source": [
    "# Yêu cầu người dùng nhập mật khẩu \n",
    "password = input(\"Nhập mật khẩu: \") \n",
    "hashed_password = hashlib.sha256(password.encode()).hexdigest() \n",
    "if hashed_password == stored_password: \n",
    "    print(\"Xác thực thành công!\") \n",
    "else: \n",
    "    print(\"Xác thực thất bại!\")"
   ]
  },
  {
   "cell_type": "code",
   "execution_count": 3,
   "id": "a79dd94a",
   "metadata": {},
   "outputs": [
    {
     "name": "stdout",
     "output_type": "stream",
     "text": [
      "Mã OTP của bạn là: 079911\n"
     ]
    }
   ],
   "source": [
    "import pyotp \n",
    "import time \n",
    " \n",
    "# Tạo khóa bí mật và mã OTP \n",
    "secret = pyotp.random_base32() \n",
    "totp = pyotp.TOTP(secret) \n",
    " \n",
    "print(\"Mã OTP của bạn là:\", totp.now()) "
   ]
  },
  {
   "cell_type": "code",
   "execution_count": 4,
   "id": "8f94805b",
   "metadata": {},
   "outputs": [
    {
     "name": "stdout",
     "output_type": "stream",
     "text": [
      "Xác thực thành công!\n"
     ]
    }
   ],
   "source": [
    "# Yêu cầu nhập mã OTP \n",
    "otp_input = input(\"Nhập mã OTP: \") \n",
    " \n",
    "if totp.verify(otp_input): \n",
    "    print(\"Xác thực thành công!\") \n",
    "else: \n",
    "    print(\"Xác thực thất bại!\")"
   ]
  },
  {
   "cell_type": "code",
   "execution_count": 5,
   "id": "75ad6303",
   "metadata": {},
   "outputs": [
    {
     "name": "stdout",
     "output_type": "stream",
     "text": [
      "Xác thực mật khẩu thành công! Chuyển sang bước xác thực bằng mã OTP.\n",
      "Mã OTP của bạn là: 890725\n"
     ]
    }
   ],
   "source": [
    "import hashlib \n",
    "import pyotp \n",
    "import time \n",
    " \n",
    "# Bước 1: Xác thực bằng mật khẩu \n",
    "stored_password = hashlib.sha256(b\"Thang2403@\").hexdigest() \n",
    "#Mật khẩu lưu trữ dưới dạng mã băm SHA-256\n",
    "password = input(\"Nhập mật khẩu: \") \n",
    "hashed_password = hashlib.sha256(password.encode()).hexdigest() \n",
    " \n",
    "if hashed_password == stored_password: \n",
    "    print(\"Xác thực mật khẩu thành công! Chuyển sang bước xác thực bằng mã OTP.\") \n",
    "else: \n",
    "    print(\"Xác thực mật khẩu thất bại!\") \n",
    "    exit()  # Thoát chương trình nếu sai mật khẩu \n",
    " \n",
    "# Bước 2: Xác thực bằng mã OTP nếu mật khẩu đúng \n",
    "# Tạo khóa bí mật và mã OTP \n",
    "secret = pyotp.random_base32() \n",
    "totp = pyotp.TOTP(secret) \n",
    " \n",
    "# In mã OTP (trong thực tế sẽ được gửi qua SMS hoặc Email) \n",
    "print(\"Mã OTP của bạn là:\", totp.now()) \n",
    " "
   ]
  },
  {
   "cell_type": "code",
   "execution_count": 6,
   "id": "722138ef",
   "metadata": {},
   "outputs": [
    {
     "name": "stdout",
     "output_type": "stream",
     "text": [
      "Xác thực hai yếu tố thành công!\n"
     ]
    }
   ],
   "source": [
    "# Yêu cầu người dùng nhập mã OTP \n",
    "otp_input = input(\"Nhập mã OTP: \") \n",
    " \n",
    "if totp.verify(otp_input): \n",
    "    print(\"Xác thực hai yếu tố thành công!\") \n",
    "else: \n",
    "    print(\"Xác thực bước 2, mã OTP thất bại!\") "
   ]
  }
 ],
 "metadata": {
  "kernelspec": {
   "display_name": "base",
   "language": "python",
   "name": "python3"
  },
  "language_info": {
   "codemirror_mode": {
    "name": "ipython",
    "version": 3
   },
   "file_extension": ".py",
   "mimetype": "text/x-python",
   "name": "python",
   "nbconvert_exporter": "python",
   "pygments_lexer": "ipython3",
   "version": "3.11.4"
  }
 },
 "nbformat": 4,
 "nbformat_minor": 5
}
