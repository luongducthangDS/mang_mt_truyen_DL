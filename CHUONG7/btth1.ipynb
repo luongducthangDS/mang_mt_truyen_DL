{
 "cells": [
  {
   "cell_type": "markdown",
   "id": "5348ca74",
   "metadata": {},
   "source": [
    "1. Khai báo thư viện và imports"
   ]
  },
  {
   "cell_type": "code",
   "execution_count": 2,
   "id": "dfc17af0",
   "metadata": {},
   "outputs": [],
   "source": [
    "#!/usr/bin/env python3\n",
    "import argparse\n",
    "import sys\n",
    "import time\n",
    "from Crypto.Cipher import AES, PKCS1_OAEP\n",
    "from Crypto.Random import get_random_bytes\n",
    "from Crypto.PublicKey import RSA\n",
    "from Crypto.Util.Padding import pad, unpad"
   ]
  },
  {
   "cell_type": "markdown",
   "id": "863152c2",
   "metadata": {},
   "source": [
    "Hàm encrypt_decrypt_aes"
   ]
  },
  {
   "cell_type": "code",
   "execution_count": 3,
   "id": "4e9fb23c",
   "metadata": {},
   "outputs": [],
   "source": [
    "def encrypt_decrypt_aes(plaintext: bytes, key: bytes, iterations: int = 10):\n",
    "    \"\"\"Mã hóa và giải mã AES nhiều lần, trả về thời gian trung bình (encrypt, decrypt).\"\"\"\n",
    "    enc_times, dec_times = [], []\n",
    "    for _ in range(iterations):\n",
    "        iv = get_random_bytes(16)\n",
    "        cipher = AES.new(key, AES.MODE_CBC, iv)\n",
    "        # encrypt\n",
    "        t0 = time.perf_counter()\n",
    "        ciphertext = cipher.encrypt(pad(plaintext, AES.block_size))\n",
    "        t1 = time.perf_counter()\n",
    "        # decrypt\n",
    "        cipher2 = AES.new(key, AES.MODE_CBC, iv)\n",
    "        _ = unpad(cipher2.decrypt(ciphertext), AES.block_size)\n",
    "        t2 = time.perf_counter()\n",
    "        enc_times.append(t1 - t0)\n",
    "        dec_times.append(t2 - t1)\n",
    "    return sum(enc_times)/iterations, sum(dec_times)/iterations"
   ]
  },
  {
   "cell_type": "markdown",
   "id": "0d915907",
   "metadata": {},
   "source": [
    "2. Hàm encrypt_decrypt_rsa"
   ]
  },
  {
   "cell_type": "code",
   "execution_count": 4,
   "id": "0f1b0352",
   "metadata": {},
   "outputs": [],
   "source": [
    "def encrypt_decrypt_rsa(sym_key: bytes, rsa_key: RSA.RsaKey, iterations: int = 10):\n",
    "    \"\"\"Mã hóa và giải mã khóa AES bằng RSA nhiều lần, trả về thời gian trung bình (encrypt, decrypt).\"\"\"\n",
    "    pub = rsa_key.publickey()\n",
    "    encryptor = PKCS1_OAEP.new(pub)\n",
    "    decryptor = PKCS1_OAEP.new(rsa_key)\n",
    "    enc_times, dec_times = [], []\n",
    "    for _ in range(iterations):\n",
    "        t0 = time.perf_counter()\n",
    "        encrypted = encryptor.encrypt(sym_key)\n",
    "        t1 = time.perf_counter()\n",
    "        _ = decryptor.decrypt(encrypted)\n",
    "        t2 = time.perf_counter()\n",
    "        enc_times.append(t1 - t0)\n",
    "        dec_times.append(t2 - t1)\n",
    "    return sum(enc_times)/iterations, sum(dec_times)/iterations"
   ]
  },
  {
   "cell_type": "markdown",
   "id": "f1025d32",
   "metadata": {},
   "source": [
    "3. Hàm main() và phân tích tham số"
   ]
  },
  {
   "cell_type": "code",
   "execution_count": 5,
   "id": "845d902d",
   "metadata": {},
   "outputs": [
    {
     "name": "stdout",
     "output_type": "stream",
     "text": [
      "\n",
      "[*] AES: thực hiện 50 lần trên văn bản độ dài 30 byte\n",
      "    → Thời gian mã hóa trung bình: 0.012 ms\n",
      "    → Thời gian giải mã trung bình: 0.013 ms\n",
      "\n",
      "[*] RSA: mã hóa/giải mã khóa AES 16 byte\n",
      "    → Thời gian mã hóa RSA trung bình: 0.505 ms\n",
      "    → Thời gian giải mã RSA trung bình: 3.224 ms\n",
      "\n",
      "[*] Tóm tắt:\n",
      "    • AES mã hóa nhanh hơn RSA khoảng 41.5×\n",
      "    • AES giải mã nhanh hơn RSA khoảng 246.8×\n"
     ]
    }
   ],
   "source": [
    "def main():\n",
    "    parser = argparse.ArgumentParser(description=\"Demo hiệu năng AES và RSA\")\n",
    "    parser.add_argument(\"-m\", \"--message\", type=str,\n",
    "                        default=\"Hello, this is a test message!\",\n",
    "                        help=\"Văn bản thuần để mã hóa bằng AES\")\n",
    "    parser.add_argument(\"-i\", \"--iterations\", type=int, default=50,\n",
    "                        help=\"Số lần lặp để tính thời gian trung bình\")\n",
    "    args = parser.parse_args(args=[])\n",
    "\n",
    "    plaintext = args.message.encode()\n",
    "    aes_key = get_random_bytes(16)\n",
    "\n",
    "    print(f\"\\n[*] AES: thực hiện {args.iterations} lần trên văn bản độ dài {len(plaintext)} byte\")\n",
    "    aes_enc_avg, aes_dec_avg = encrypt_decrypt_aes(plaintext, aes_key, args.iterations)\n",
    "    print(f\"    → Thời gian mã hóa trung bình: {aes_enc_avg*1e3:.3f} ms\")\n",
    "    print(f\"    → Thời gian giải mã trung bình: {aes_dec_avg*1e3:.3f} ms\")\n",
    "\n",
    "    print(\"\\n[*] RSA: mã hóa/giải mã khóa AES 16 byte\")\n",
    "    rsa_key = RSA.generate(2048)\n",
    "    rsa_enc_avg, rsa_dec_avg = encrypt_decrypt_rsa(aes_key, rsa_key, args.iterations)\n",
    "    print(f\"    → Thời gian mã hóa RSA trung bình: {rsa_enc_avg*1e3:.3f} ms\")\n",
    "    print(f\"    → Thời gian giải mã RSA trung bình: {rsa_dec_avg*1e3:.3f} ms\")\n",
    "\n",
    "    print(\"\\n[*] Tóm tắt:\")\n",
    "    speedup_enc = rsa_enc_avg / aes_enc_avg\n",
    "    speedup_dec = rsa_dec_avg / aes_dec_avg\n",
    "    print(f\"    • AES mã hóa nhanh hơn RSA khoảng {speedup_enc:.1f}×\")\n",
    "    print(f\"    • AES giải mã nhanh hơn RSA khoảng {speedup_dec:.1f}×\")\n",
    "\n",
    "if __name__ == \"__main__\":\n",
    "    main()"
   ]
  }
 ],
 "metadata": {
  "kernelspec": {
   "display_name": "base",
   "language": "python",
   "name": "python3"
  },
  "language_info": {
   "codemirror_mode": {
    "name": "ipython",
    "version": 3
   },
   "file_extension": ".py",
   "mimetype": "text/x-python",
   "name": "python",
   "nbconvert_exporter": "python",
   "pygments_lexer": "ipython3",
   "version": "3.11.4"
  }
 },
 "nbformat": 4,
 "nbformat_minor": 5
}
